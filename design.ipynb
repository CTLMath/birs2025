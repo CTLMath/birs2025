{
 "cells": [
  {
   "cell_type": "markdown",
   "id": "819dc411-a167-4512-8ba6-2ff9251f3999",
   "metadata": {
    "editable": true,
    "slideshow": {
     "slide_type": ""
    },
    "tags": []
   },
   "source": [
    "# Instructional Design for Computational Teaching and Learning\n",
    "\n",
    "We will outline design principles for constructing computational learning materials with Python and Jupyter. We will articulate learning goals, identify problems and examples which align with learning goals, explore different levels of scaffolding and how to embed meaningful feedback for students."
   ]
  },
  {
   "cell_type": "markdown",
   "id": "90c42d95-00eb-4b7f-9c19-49dff4544841",
   "metadata": {},
   "source": [
    "## References\n",
    "\n",
    "* [Understanding by Design](https://en.wikipedia.org/wiki/Understanding_by_Design)\n",
    "* [Teaching and Learning with Jupyter](https://jupyter4edu.github.io/jupyter-edu-book/)\n",
    "* [Teaching Tech Together](https://teachtogether.tech/en/index.html)"
   ]
  },
  {
   "cell_type": "markdown",
   "id": "53e5cc6d-2f1f-46eb-9fa4-398575fa7c5a",
   "metadata": {},
   "source": [
    "## Design Process"
   ]
  },
  {
   "cell_type": "markdown",
   "id": "3a91dabe-16f6-4977-9c10-67389780734b",
   "metadata": {},
   "source": [
    "### Know Your Audience (and Other Things)\n",
    "\n",
    "* Who are your students? How many are there?\n",
    "* What is the range of prior knowledge of your students?\n",
    "* What is the format of the course? What are the constraints?\n",
    "* How will you interact with students? What is the learning management system (LMS)?\n",
    "* What computational resources are available to students?\n",
    "* How are students interacting with the mathematics through the computational documents?"
   ]
  },
  {
   "cell_type": "markdown",
   "id": "03b164ef-b6c0-4116-b3e0-a2e0b1d389ba",
   "metadata": {
    "editable": true,
    "slideshow": {
     "slide_type": ""
    },
    "tags": []
   },
   "source": [
    "### Big Ideas and Essential Questions\n",
    "\n",
    "* What's the big idea?\n",
    "* What is the core understanding that you want students to learn?\n",
    "* What essential questions engage students with the big idea?\n",
    "\n",
    "**Exercise.** Choose a specific class in your program and answer the questions in both sections above. Who are your students and what is the big idea?"
   ]
  },
  {
   "cell_type": "markdown",
   "id": "728222e5-23b2-45f8-a41f-39758a569860",
   "metadata": {
    "editable": true,
    "slideshow": {
     "slide_type": "slide"
    },
    "tags": []
   },
   "source": [
    "### Learning Goals\n",
    "\n",
    "* What knowledge and skills should students gain from this learning experience?\n",
    "* By the end of the course/unit/activity, students should know ...\n",
    "* By the end of the course/unit/activity, students should be able to ...\n",
    "* Are the learning goals aligned with the big idea?"
   ]
  },
  {
   "cell_type": "markdown",
   "id": "1919f8a0-6264-4424-9640-a74365daea27",
   "metadata": {},
   "source": [
    "### Learning Plan\n",
    "\n",
    "* What do you want students to do? What problem are they trying to solve?\n",
    "* Are students working individually or collaboratively?\n",
    "* Is the learning activity a formative or a summative assessment?\n",
    "* Will students submit their work for grades?\n",
    "* Is the learning plan aligned with the learning goals?\n",
    "* Does the learning plan lead students to the big idea?"
   ]
  },
  {
   "cell_type": "markdown",
   "id": "968f8a40-f96b-46a9-84cb-4e55f8124eb7",
   "metadata": {},
   "source": [
    "### Notebook Design\n",
    "\n",
    "* What pedagogical patterns will you implement?\n",
    "* Review examples of [pedagogical patterns](https://jupyter4edu.github.io/jupyter-edu-book/catalogue.html) and choose some that suit your learning plan.\n",
    "* How much scaffolding is required for your students?\n",
    "* What feedback can you give to students? How will students reflect on their learning?\n",
    "* Is the notebook aligned with the learning goals?\n",
    "* Does the notebook lead students to the big idea?"
   ]
  },
  {
   "cell_type": "markdown",
   "id": "4cd0dd29-e4f6-40da-a251-06033ac3cc6a",
   "metadata": {},
   "source": [
    "## Computational Learning Goals"
   ]
  },
  {
   "cell_type": "markdown",
   "id": "010289a1-6365-4788-9f51-889eb092fe14",
   "metadata": {
    "editable": true,
    "slideshow": {
     "slide_type": "slide"
    },
    "tags": []
   },
   "source": [
    "### Overview\n",
    "\n",
    "| Level I   | Level II      | Level III  |\n",
    "| :---:     | :---:         | :---:      |\n",
    "| Numbers   | Vectorization | Algorithms |\n",
    "| Variables | Iteration     | Packages   |\n",
    "| Functions | Branching     | Objects    |\n",
    "| Arrays    | Data I/O      | Classes    |"
   ]
  },
  {
   "cell_type": "markdown",
   "id": "ea6b7445-d4c6-4689-aaf4-ad8234edd701",
   "metadata": {
    "editable": true,
    "slideshow": {
     "slide_type": "slide"
    },
    "tags": []
   },
   "source": [
    "### Numbers\n",
    "\n",
    "* Compare and contrast different numeric types: integer, float, complex\n",
    "* Compute arithmetic operations: addition, subtraction, multiplication, division and exponentiation\n",
    "* Compose arithmetic operations to compute mathematical expressions"
   ]
  },
  {
   "cell_type": "markdown",
   "id": "4048c1c6-d61e-4c58-9168-6cc28f7e2e60",
   "metadata": {
    "editable": true,
    "slideshow": {
     "slide_type": "slide"
    },
    "tags": []
   },
   "source": [
    "**Example.** Approximate $e$ by computing the first 6 terms of the Taylor series:\n",
    "\n",
    "$$\n",
    "e \\approx \\sum_{k=0}^5 \\frac{1}{k!} = 1/0! + 1/1! + 1/2! + 1/3! + 1/4! + 1/5!\n",
    "$$"
   ]
  },
  {
   "cell_type": "code",
   "execution_count": 1,
   "id": "e18f7a0c-a0d2-4a16-856e-595bd0493dda",
   "metadata": {
    "editable": true,
    "slideshow": {
     "slide_type": "slide"
    },
    "tags": []
   },
   "outputs": [
    {
     "data": {
      "text/plain": [
       "2.7166666666666663"
      ]
     },
     "execution_count": 1,
     "metadata": {},
     "output_type": "execute_result"
    }
   ],
   "source": [
    "1 + 1 + 1/2 + 1/(2*3) + 1/(2*3*4) + 1/(2*3*4*5)"
   ]
  },
  {
   "cell_type": "markdown",
   "id": "46705fc4-82c9-4651-acf5-d514b26fca48",
   "metadata": {
    "editable": true,
    "slideshow": {
     "slide_type": "slide"
    },
    "tags": []
   },
   "source": [
    "### Variables\n",
    "\n",
    "* Assign values to variables\n",
    "* Construct mathematical expressions with variables\n",
    "* Decompose a mathematical expression into several simpler expressions using variables"
   ]
  },
  {
   "cell_type": "markdown",
   "id": "4dcea841-856d-423a-8740-d460e094010b",
   "metadata": {
    "editable": true,
    "slideshow": {
     "slide_type": "slide"
    },
    "tags": []
   },
   "source": [
    "**Example.** Compute the eigenvalues of the symmetric matrix:\n",
    "\n",
    "$$\n",
    "A = \\begin{bmatrix} a & b \\\\ b & c \\end{bmatrix}\n",
    "$$"
   ]
  },
  {
   "cell_type": "code",
   "execution_count": 9,
   "id": "1fdefceb-83f3-44e4-b0ce-2fcdea79dd5c",
   "metadata": {
    "editable": true,
    "slideshow": {
     "slide_type": "slide"
    },
    "tags": []
   },
   "outputs": [
    {
     "name": "stdout",
     "output_type": "stream",
     "text": [
      "3.0 -1.0\n"
     ]
    }
   ],
   "source": [
    "# Define matrix entries\n",
    "a = 1; b = -2; c = 1;\n",
    "\n",
    "# Characteristic polynomial:\n",
    "# p(x) = x^2 - (a + c)x + (ac - b^2)\n",
    "#      = x^2 + Bx + C\n",
    "B = -(a + c)\n",
    "C = a*c - b**2\n",
    "\n",
    "# Quadratic formula\n",
    "eig1 = (-B + (B**2 - 4*C)**0.5)/2\n",
    "eig2 = (-B - (B**2 - 4*C)**0.5)/2\n",
    "\n",
    "print(eig1,eig2)"
   ]
  },
  {
   "cell_type": "markdown",
   "id": "f4bd05f0-3548-4bbc-84ba-c123939a5c01",
   "metadata": {
    "editable": true,
    "slideshow": {
     "slide_type": "slide"
    },
    "tags": []
   },
   "source": [
    "### Functions\n",
    "\n",
    "* Define a Python function which represents a mathematical function\n",
    "* Use a function given a description of its input and output values\n",
    "* Identify datatypes of input parameters and output values of a function"
   ]
  },
  {
   "cell_type": "markdown",
   "id": "46ad256e-acb2-44de-9681-eb1f559827a9",
   "metadata": {
    "editable": true,
    "slideshow": {
     "slide_type": ""
    },
    "tags": []
   },
   "source": [
    "**Example.** Define a function which represents $f(x) = \\displaystyle \\frac{x}{x^2 + 1}$ and approximate $f'(0)$ using the forward difference formula:\n",
    "\n",
    "$$\n",
    "f'(a) \\approx \\frac{f(a + h) - f(a)}{h}\n",
    "$$"
   ]
  },
  {
   "cell_type": "code",
   "execution_count": 5,
   "id": "6f464538-3834-4082-92d6-02447af45166",
   "metadata": {
    "editable": true,
    "slideshow": {
     "slide_type": "slide"
    },
    "tags": []
   },
   "outputs": [
    {
     "name": "stdout",
     "output_type": "stream",
     "text": [
      "0.9999999900000002\n"
     ]
    }
   ],
   "source": [
    "f = lambda x: x/(x**2 + 1)\n",
    "\n",
    "a = 0; h = 0.0001;\n",
    "dfa = (f(a + h) - f(a))/h\n",
    "\n",
    "print(dfa)"
   ]
  },
  {
   "cell_type": "markdown",
   "id": "620f9b16-f117-43d0-8751-ac35a96dc2b2",
   "metadata": {
    "editable": true,
    "slideshow": {
     "slide_type": "slide"
    },
    "tags": []
   },
   "source": [
    "### Arrays\n",
    "\n",
    "* Construct an array object to represent a mathematical object such as a sequence, vector or matrix\n",
    "* Access entries in an array using index syntax\n",
    "* Inspect an array by printing values to output and/or using a matrix plot"
   ]
  },
  {
   "cell_type": "markdown",
   "id": "8575f09c-03a6-4ab7-8ddd-fd7a7f47a22c",
   "metadata": {},
   "source": [
    "### Vectorization\n",
    "\n",
    "* Discretize an interval $[a,b]$ by creating a sequence of equally spaced values from $a$ to $b$\n",
    "* Apply elementwise arithmetic operations to an array\n",
    "* Apply a vectorized function to an array\n",
    "* Describe the value at a given index in an array created with vectorized operations"
   ]
  },
  {
   "cell_type": "markdown",
   "id": "a2cdc9ce-4ddb-4a9c-8aa2-1f0594730080",
   "metadata": {},
   "source": [
    "**Example.** Create array ${\\bf y} = [y_0,y_1,\\dots,y_N]$ of values $y_k = \\cos(2 \\pi x_k)$ for equally spaced values $x_0,x_1,\\dots,x_N$ from $x_0 = 0$ to $x_N = 1$ for $N=12$."
   ]
  },
  {
   "cell_type": "code",
   "execution_count": 19,
   "id": "5e8e6881-6d2a-45ec-9878-9b2b7c0a1570",
   "metadata": {},
   "outputs": [
    {
     "name": "stdout",
     "output_type": "stream",
     "text": [
      "[ 1.00000000e+00  8.66025404e-01  5.00000000e-01  6.12323400e-17\n",
      " -5.00000000e-01 -8.66025404e-01 -1.00000000e+00 -8.66025404e-01\n",
      " -5.00000000e-01 -1.83697020e-16  5.00000000e-01  8.66025404e-01\n",
      "  1.00000000e+00]\n",
      "0.8660254037844387\n",
      "0.8660254037844386\n"
     ]
    }
   ],
   "source": [
    "import numpy as np\n",
    "\n",
    "a = 0; b = 1; N = 12;\n",
    "x = np.linspace(a,b,N+1)\n",
    "y = np.cos(2*np.pi*x)\n",
    "\n",
    "print(y)\n",
    "print(y[1])\n",
    "print(3**0.5/2)"
   ]
  },
  {
   "cell_type": "markdown",
   "id": "7f4160d1-3c55-44fd-846c-e5eb5489eea5",
   "metadata": {},
   "source": [
    "### Iteration\n",
    "\n",
    "* Construct a recursive sequence $x_{n+1} = f(x_n)$"
   ]
  },
  {
   "cell_type": "markdown",
   "id": "030113de-9343-4f32-a797-cbca96f6b744",
   "metadata": {},
   "source": [
    "**Example.** Construct the recursive sequence $x_{n+1} = \\sqrt{1 + x_n}$, $x_0 = 1$, up to $x_6$."
   ]
  },
  {
   "cell_type": "code",
   "execution_count": 25,
   "id": "90d8edcb-4359-4178-8746-6c7f0dfc96af",
   "metadata": {},
   "outputs": [
    {
     "name": "stdout",
     "output_type": "stream",
     "text": [
      "[1, 1.4142135623730951, 1.5537739740300374, 1.5980531824786175, 1.6118477541252516, 1.616121206508117]\n"
     ]
    }
   ],
   "source": [
    "N = 5\n",
    "x = [0 for n in range(N+1)]\n",
    "x[0] = 1\n",
    "for n in range(N):\n",
    "    x[n + 1] = (1 + x[n])**0.5\n",
    "\n",
    "print(x)"
   ]
  },
  {
   "cell_type": "markdown",
   "id": "3064154d-3a74-4dde-9133-64192cbb4b3b",
   "metadata": {},
   "source": [
    "## Create Computational Learning Material\n",
    "\n",
    "At this point, we have articulated the big idea, essential questions, and learning goals, and we have created a learning plan. Now we need to design the notebook!"
   ]
  },
  {
   "cell_type": "markdown",
   "id": "09103abf-6954-429a-9c58-f77612caa8ad",
   "metadata": {},
   "source": [
    "### Tell the Whole Story\n",
    "\n",
    "* Compose a Jupyter notebook which solves the problem from start to finish\n",
    "* Include all the observations and reflections that you would like students to make\n",
    "* Identify the keys parts where you would like students to focus\n",
    "* Identify what should remain in the notebook to give direction to students\n",
    "* Identify what should be removed for students to discover on their own"
   ]
  },
  {
   "cell_type": "markdown",
   "id": "558c89b1-2fd0-41e7-9502-e24bd355bba3",
   "metadata": {},
   "source": [
    "### Pedagogical Patterns\n",
    "\n",
    "* How will students interact with the notebook?\n",
    "* Review examples of [pedagogical patterns](https://jupyter4edu.github.io/jupyter-edu-book/catalogue.html)."
   ]
  },
  {
   "cell_type": "markdown",
   "id": "c9dbb10f-d688-4241-9727-41b1675bc3bd",
   "metadata": {},
   "source": [
    "### Scaffolding and Feedback\n",
    "\n",
    "* How much scaffolding do your students require?\n",
    "* Would it be helpful to include some helper functions at the top of the notebook?\n",
    "* Use \"Read Only\" cells to embed feedback computations.\n",
    "* How can students evaluate their solutions and determine whether they make sense?"
   ]
  },
  {
   "cell_type": "markdown",
   "id": "9c712190-e83c-4528-aa92-c7ebed9ffc15",
   "metadata": {},
   "source": [
    "### Discovery and Reflection\n",
    "\n",
    "* Engage students with the big idea.\n",
    "* Ask essential questions.\n",
    "* Anticipate common misconceptions and find ways to engage students with misconceptions\n",
    "* Provide opportunities for students to be creative and to demonstrate *transfer* of knowledge and skills."
   ]
  },
  {
   "cell_type": "markdown",
   "id": "ccbde7a6-785f-4942-a6dd-c3d41fa9d684",
   "metadata": {},
   "source": [
    "## Examples\n",
    "\n",
    "**Group discussion.** Let's apply the steps of the design process to create notebooks for the following big ideas."
   ]
  },
  {
   "cell_type": "markdown",
   "id": "250cb8d1-2e82-469a-abb4-71e858535f61",
   "metadata": {},
   "source": [
    "### Derivatives\n",
    "\n",
    "**Big Idea.** The values of $f'(x)$ determine the shape of the graph of $f(x)$."
   ]
  },
  {
   "cell_type": "markdown",
   "id": "f72fa477-81c3-42e4-90c2-df12e68e42cf",
   "metadata": {
    "editable": true,
    "slideshow": {
     "slide_type": ""
    },
    "tags": []
   },
   "source": [
    "### Elementary Row Operations\n",
    "\n",
    "**Big Idea.** Add equations together to isolate variables and find solutions."
   ]
  },
  {
   "cell_type": "markdown",
   "id": "8e08cca9-1dfe-4591-800e-459a3d1a03e8",
   "metadata": {},
   "source": [
    "### Slopefields\n",
    "\n",
    "**Big Idea.** The right hand side of a first order equation $y' = f(t,y)$ gives us complete information about the shape of solutions."
   ]
  }
 ],
 "metadata": {
  "kernelspec": {
   "display_name": "Python 3 (ipykernel)",
   "language": "python",
   "name": "python3"
  },
  "language_info": {
   "codemirror_mode": {
    "name": "ipython",
    "version": 3
   },
   "file_extension": ".py",
   "mimetype": "text/x-python",
   "name": "python",
   "nbconvert_exporter": "python",
   "pygments_lexer": "ipython3",
   "version": "3.13.2"
  }
 },
 "nbformat": 4,
 "nbformat_minor": 5
}

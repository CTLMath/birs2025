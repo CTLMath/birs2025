{
 "cells": [
  {
   "cell_type": "markdown",
   "id": "76d73462-7dba-43fb-928b-701905230989",
   "metadata": {
    "editable": true,
    "slideshow": {
     "slide_type": ""
    },
    "tags": []
   },
   "source": [
    "# Computational Teaching and Learning in Mathematics at UBC\n",
    "\n",
    "**Patrick Walls**\n",
    "\n",
    "*May 23, 2025*"
   ]
  },
  {
   "cell_type": "markdown",
   "id": "006de273-34a0-4b79-8c2f-7fa3dc3b8074",
   "metadata": {
    "editable": true,
    "slideshow": {
     "slide_type": ""
    },
    "tags": []
   },
   "source": [
    "## Land Acknowledgement\n",
    "\n",
    "BIRS in Banff is located on Treaty 7 territory, the traditional lands of the Stoney Nakoda Nations: the Goodstoney, Chiniki, and Bearspaw First Nations; three Nations of the Blackfoot Confederacy: the Piikani, Kainai and Siksika First Nations; the Tsuut'ina First Nation; and the Métis Nation of Alberta."
   ]
  },
  {
   "cell_type": "markdown",
   "id": "4efd66f3-2f87-453d-b385-2c8b81c94bb4",
   "metadata": {
    "editable": true,
    "slideshow": {
     "slide_type": ""
    },
    "tags": []
   },
   "source": [
    "## Mission, Goals and Principles"
   ]
  },
  {
   "cell_type": "markdown",
   "id": "aaba7070-a02c-4bb4-9713-db638ce9e9b6",
   "metadata": {
    "editable": true,
    "slideshow": {
     "slide_type": ""
    },
    "tags": []
   },
   "source": [
    "### Mission Statement\n",
    "\n",
    "For students to learn transferable knowledge and skills in computational thinking for mathematics."
   ]
  },
  {
   "cell_type": "markdown",
   "id": "e620166e-84cf-45cf-b50c-f2b655f8a796",
   "metadata": {
    "editable": true,
    "slideshow": {
     "slide_type": ""
    },
    "tags": []
   },
   "source": [
    "### Workshop Goals\n",
    "\n",
    "* Outline a set of standards for computational teaching and learning in mathematics\n",
    "* Provide explicit software training for instructors\n",
    "* Create and share computational learning materials"
   ]
  },
  {
   "cell_type": "markdown",
   "id": "2a580901-6537-4d94-a752-4ee62f20ca40",
   "metadata": {
    "editable": true,
    "slideshow": {
     "slide_type": ""
    },
    "tags": []
   },
   "source": [
    "### Guiding Principles\n",
    "\n",
    "* Mathematics before computing\n",
    "* Design for scale\n",
    "* Language agnostic\n",
    "* Align with open source community\n",
    "* Exploit institutional inertia\n",
    "* Keep it simple"
   ]
  },
  {
   "cell_type": "markdown",
   "id": "45565c13-2b7e-474c-a30f-ed96c0bf000f",
   "metadata": {
    "editable": true,
    "slideshow": {
     "slide_type": ""
    },
    "tags": []
   },
   "source": [
    "## Mathematical Computing at UBC"
   ]
  },
  {
   "cell_type": "markdown",
   "id": "3adff911-a908-43a7-a028-475f67092853",
   "metadata": {
    "editable": true,
    "slideshow": {
     "slide_type": ""
    },
    "tags": []
   },
   "source": [
    "### Challenges\n",
    "\n",
    "* **Scale**: How do we design curriculum to serve hundreds or thousands of students?\n",
    "* **Student prior knowledge**: How do we design curriculum for students with no prior knowledge of mathematical software and computing?\n",
    "* **Instructor prior knowledge**: How do we design curriculum for instructors with no prior knowledge of mathematical software and computing?\n",
    "* **Limited resources**: How do we design new curriculum using only the resources that we already have?\n",
    "* **Sustainability**: How do we design curriculum that will last?"
   ]
  },
  {
   "cell_type": "markdown",
   "id": "b43d2d60-c6c7-4c34-87ce-a61f29deba92",
   "metadata": {
    "editable": true,
    "slideshow": {
     "slide_type": ""
    },
    "tags": []
   },
   "source": [
    "### Courses\n",
    "\n",
    "Courses where mathematical computing is **integral** to the learning objectives:\n",
    "\n",
    "* MATH 210 Introduction to Mathematical Computing\n",
    "* MATH 360 Introduction to Mathematical Modelling\n",
    "* MATH 441 Projects in Mathematical Optimization\n",
    "* MATH 461 Projects in Mathematical Modelling\n",
    "\n",
    "Courses where mathematical computing is **complementary** to the learning objectives:\n",
    "\n",
    "* MATH 152 Linear Systems\n",
    "* MATH 215 Elementary Differential Equations I\n",
    "* MATH 221 Matrix Algebra\n",
    "* MATH 223 Linear Algebra\n",
    "* MATH 256 Differential Equations\n",
    "* MATH 302 Introduction to Probability\n",
    "* MATH 307 Applied Linear Algebra\n",
    "* MATH 316 Elementary Differential Equations II\n",
    "\n",
    "See [UBC Math Course Map](https://ubcmath.github.io/coursemap/) for more info."
   ]
  },
  {
   "cell_type": "markdown",
   "id": "075c9af4-a465-457f-9872-2a80417f853a",
   "metadata": {
    "editable": true,
    "slideshow": {
     "slide_type": ""
    },
    "tags": []
   },
   "source": [
    "### Software Stack\n",
    "\n",
    "* [Python](https://python.org) is an open source general purpose programming language\n",
    "* [Jupyter](https://jupyter.org) is a web-based development environment for creating computational documents\n",
    "* [Syzygy](https://syzygy.ca) is a collection JupyterHubs integrated with institutional authentication systems\n",
    "* [NumPy](https://numpy.org) is a Python package for numerical computation with arrays\n",
    "* [SciPy](https://scipy.org) is a Python library of algorithms for mathematical computing\n",
    "* [Matplotlib](https://matplotlib.org) is a Python package for mathematical graphics and data visualization\n",
    "* [GitHub](https://github.com) is a web-based platform for collaborating on software projects\n",
    "* [nbgrader](https://nbgrader.readthedocs.io/en/stable/) is a Python package for creating, autograding and managing assignments in Jupyter notebooks\n",
    "* [CanvasAPI](https://canvasapi.readthedocs.io) is a Python package for uploading/downloading data from Canvas\n",
    "* [Jupyter Book](https://jupyterbook.org/en/stable/intro.html) is a Python package which creates web-based books from computational documents"
   ]
  },
  {
   "cell_type": "markdown",
   "id": "37d7e1b3-c017-419f-84db-c957d4390480",
   "metadata": {
    "editable": true,
    "slideshow": {
     "slide_type": ""
    },
    "tags": []
   },
   "source": [
    "### Implementation\n",
    "\n",
    "* Design computational learning materials with Python and Jupyter\n",
    "* Publish web-based learning material with Jupyter Book and GitHub\n",
    "* Collaborate with instructors to setup Canvas courses and assignments\n",
    "* Python TA training\n",
    "* nbgrader training for staff/TAs\n",
    "* Online Zoom lectures and co-teaching\n",
    "* Autograding with nbgrader and CanvasAPI\n",
    "* Supervise TAs and staff\n",
    "* Python TAs in [Math Learning Center (MLC)](https://www.math.ubc.ca/undergraduate/advising-and-resources/drop-help)"
   ]
  },
  {
   "cell_type": "markdown",
   "id": "5557287c-877d-4b7c-a3c5-73b668225363",
   "metadata": {
    "editable": true,
    "slideshow": {
     "slide_type": ""
    },
    "tags": []
   },
   "source": [
    "## Examples\n",
    "\n",
    "Clone the repo: `https://github.com/patrickwalls/examples.git`"
   ]
  },
  {
   "cell_type": "markdown",
   "id": "f233d244-3d24-4399-87f7-6a70e85bd9fe",
   "metadata": {
    "editable": true,
    "slideshow": {
     "slide_type": ""
    },
    "tags": []
   },
   "source": [
    "### MATH 210 Introduction to Mathematical Computing\n",
    "\n",
    "* Numerical integration, numerical methods for ordinary differential equations, eigenvalues and eigenvectors\n",
    "* 100 students 2 sections\n",
    "* Prerequisites: Calculus II, Linear Algebra, Differential Equations I\n",
    "* Live coding in class\n",
    "* Assignments autograded with nbgrader\n",
    "* Exams on paper including reading and writing Python code\n",
    "* [Mathematical Python](https://patrickwalls.github.io/mathematicalpython)"
   ]
  },
  {
   "cell_type": "markdown",
   "id": "6ea666ac-8ffa-4d73-b904-99fb51ff9703",
   "metadata": {
    "editable": true,
    "slideshow": {
     "slide_type": ""
    },
    "tags": []
   },
   "source": [
    "### MATH 152 Linear Systems\n",
    "\n",
    "* Linear equations, vector geometry, linear transformations, eigenvalues and eigenvectors\n",
    "* 1000 students 5 sections\n",
    "* Bi-Weekly MATLAB computer labs on Zoom directed by MATLAB TAs\n",
    "* MATLAB assignments semi-autograded with mbgrader\n",
    "* No prior knowledge of MATLAB\n",
    "* Students use [MATLAB Online](https://matlab.mathworks.com)\n",
    "* [MATLAB for UBC Math](https://ubcmath.github.io/matlab)"
   ]
  },
  {
   "cell_type": "markdown",
   "id": "54bbd9a0-ad19-4623-bc64-69692e1b556b",
   "metadata": {
    "editable": true,
    "slideshow": {
     "slide_type": ""
    },
    "tags": []
   },
   "source": [
    "### MATH 215 Elementary Differential Equations I\n",
    "\n",
    "* First order equations, second order equations with constant coefficients, Laplace transform, linear systems, 2D nonlinear systems and linearization\n",
    "* 400 students 3 sections\n",
    "* Prerequisites: Calculus II, Linear Algebra I\n",
    "* No prior knowledge of Python and Jupyter\n",
    "* [Python for UBC Math](https://ubcmath.github.io/python/)"
   ]
  },
  {
   "cell_type": "markdown",
   "id": "a46632a4-079a-471d-a69d-427b5171ff19",
   "metadata": {
    "editable": true,
    "slideshow": {
     "slide_type": ""
    },
    "tags": []
   },
   "source": [
    "### MATH 307 Applied Linear Algebra\n",
    "\n",
    "* Matrix decompositions LU, QR, SVD and discrete Fourier transform\n",
    "* 300 students 3 sections\n",
    "* Prerequisites: Calculus III and Linear Algebra I\n",
    "* No prior knowledge of Python and Jupyter\n",
    "* [MATH 307 Notes](https://ubcmath.github.io/MATH307/)"
   ]
  },
  {
   "cell_type": "markdown",
   "id": "622f18ef-7d5b-4ab8-b47e-551f4e6fe85e",
   "metadata": {
    "editable": true,
    "slideshow": {
     "slide_type": ""
    },
    "tags": []
   },
   "source": [
    "### MATH 360 Introduction to Mathematical Modelling\n",
    "\n",
    "* 80 students 1 section\n",
    "* Flipped classroom\n",
    "* Prerequisites: Mathematical Computing and Differential Equations I\n",
    "* Builds on Python and Jupyter knowledge and skills from MATH 210\n",
    "* [MATH 360 Notes](https://ubcmath.github.io/MATH360/)"
   ]
  },
  {
   "cell_type": "markdown",
   "id": "de35a172-5542-482d-aeb4-f134d54e3353",
   "metadata": {
    "editable": true,
    "slideshow": {
     "slide_type": ""
    },
    "tags": []
   },
   "source": [
    "### MATH 441 Projects in Mathematical Optimization\n",
    "\n",
    "* 40 students 1 section\n",
    "* Linear programming, combinatorial optimization, convex optimization\n",
    "* Project based with lecture time for collaborative group work\n",
    "* Prerequisites: Linear Prgramming\n",
    "* Assumes no prior knowledge of Python and Jupyter (but almost all students have MATH 210)"
   ]
  },
  {
   "cell_type": "markdown",
   "id": "3c307e6f-86bc-411d-b8c0-473989b8dfc4",
   "metadata": {
    "editable": true,
    "slideshow": {
     "slide_type": ""
    },
    "tags": []
   },
   "source": [
    "## Simulate Student Experience\n",
    "\n",
    "Plot the function $f(x) = e^{-x^2}$ and its derivative $f'(x)$ on $[-1,1]$.\n",
    "\n",
    "How do the values of $f'(x)$ correspond to the shape of the graph $y = f(x)$?"
   ]
  },
  {
   "cell_type": "code",
   "execution_count": 1,
   "id": "08dfc610-cc6e-498e-b695-132b696367b3",
   "metadata": {
    "editable": true,
    "slideshow": {
     "slide_type": ""
    },
    "tags": []
   },
   "outputs": [
    {
     "data": {
      "image/png": "[encoded data removed]",
      "text/plain": [
       "<Figure size 640x480 with 1 Axes>"
      ]
     },
     "metadata": {},
     "output_type": "display_data"
    }
   ],
   "source": [
    "import numpy as np\n",
    "import matplotlib.pyplot as plt\n",
    "\n",
    "x = np.linspace(-1,1,100)\n",
    "\n",
    "f = lambda x: np.exp(-x**2)\n",
    "df = lambda x: -2*x*np.exp(-x**2)\n",
    "\n",
    "plt.plot(x,f(x))\n",
    "plt.plot(x,df(x))\n",
    "plt.grid(True)\n",
    "plt.title(\"$f(x) = exp(-x^2)$ and $f'(x) = -2xexp(-x^2)$\")\n",
    "plt.legend([\"f(x)\",\"f'(x)\"])\n",
    "plt.ylim([-2,2])\n",
    "plt.show()"
   ]
  },
  {
   "cell_type": "markdown",
   "id": "5607a9dd-1591-4ebd-abff-906ab2ccb4ac",
   "metadata": {
    "editable": true,
    "slideshow": {
     "slide_type": ""
    },
    "tags": []
   },
   "source": [
    "*Thanks!*"
   ]
  }
 ],
 "metadata": {
  "kernelspec": {
   "display_name": "Python 3 (ipykernel)",
   "language": "python",
   "name": "python3"
  },
  "language_info": {
   "codemirror_mode": {
    "name": "ipython",
    "version": 3
   },
   "file_extension": ".py",
   "mimetype": "text/x-python",
   "name": "python",
   "nbconvert_exporter": "python",
   "pygments_lexer": "ipython3",
   "version": "3.13.2"
  }
 },
 "nbformat": 4,
 "nbformat_minor": 5
}
